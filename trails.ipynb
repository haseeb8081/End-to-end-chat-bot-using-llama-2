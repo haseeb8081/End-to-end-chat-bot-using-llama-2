{
 "cells": [
  {
   "cell_type": "code",
   "execution_count": 2,
   "id": "cc8fa328",
   "metadata": {},
   "outputs": [
    {
     "name": "stdout",
     "output_type": "stream",
     "text": [
      "okies\n"
     ]
    }
   ],
   "source": [
    "print(\"okies\")"
   ]
  },
  {
   "cell_type": "code",
   "execution_count": 15,
   "id": "4e17d3f1",
   "metadata": {},
   "outputs": [],
   "source": [
    "from langchain import PromptTemplate\n",
    "from langchain.chains import RetrievalQA\n",
    "from langchain.embeddings import HuggingFaceEmbeddings\n",
    "from langchain.vectorstores import Pinecone\n",
    "from langchain.document_loaders import PyPDFLoader , DirectoryLoader\n",
    "from langchain.text_splitter import RecursiveCharacterTextSplitter\n",
    "from langchain.prompts import PromptTemplate   \n",
    "from langchain.llms import CTransformers"
   ]
  },
  {
   "cell_type": "code",
   "execution_count": 16,
   "id": "be00e4a0",
   "metadata": {},
   "outputs": [],
   "source": [
    "Pinecone_API_KEY = \"pcsk_2ceFrc_SRFbpfHo7FUgH6MYqEA57rG8AJb8nk1dti3d6pgmYGAgbuLJNeAu4RWSKLA8EMZ\"\n",
    "PINECONE_API_ENV = \" \""
   ]
  },
  {
   "cell_type": "code",
   "execution_count": 18,
   "id": "a4013d67",
   "metadata": {},
   "outputs": [],
   "source": [
    "#extract data from pdf\n",
    "def load_pdf(data):\n",
    "    loader = DirectoryLoader(data,\n",
    "                            glob=\"*.pdf\",\n",
    "                            loader_cls=PyPDFLoader)\n",
    "    documents = loader.load()\n",
    "    return documents\n",
    "    "
   ]
  },
  {
   "cell_type": "code",
   "execution_count": null,
   "id": "cf5f7c6a",
   "metadata": {},
   "outputs": [],
   "source": []
  }
 ],
 "metadata": {
  "kernelspec": {
   "display_name": "chatbot",
   "language": "python",
   "name": "python3"
  },
  "language_info": {
   "codemirror_mode": {
    "name": "ipython",
    "version": 3
   },
   "file_extension": ".py",
   "mimetype": "text/x-python",
   "name": "python",
   "nbconvert_exporter": "python",
   "pygments_lexer": "ipython3",
   "version": "3.8.20"
  }
 },
 "nbformat": 4,
 "nbformat_minor": 5
}
